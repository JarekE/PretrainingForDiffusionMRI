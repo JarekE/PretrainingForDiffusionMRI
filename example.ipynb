{
 "cells": [
  {
   "cell_type": "markdown",
   "source": [
    "# Example\n",
    "## Pretraining for Diffusion MRI\n",
    "\n",
    "In this example, the functionality of the code is demonstrated by fine-tuning a pretrained network for segmentation\n",
    "of the dMRI data."
   ],
   "metadata": {
    "collapsed": false,
    "pycharm": {
     "name": "#%% md\n"
    }
   }
  },
  {
   "cell_type": "code",
   "execution_count": null,
   "outputs": [],
   "source": [
    "from ExperimentModule import ExperimentModule\n",
    "import ExperimentDataloader\n",
    "import pytorch_lightning as pl\n",
    "import numpy as np\n",
    "import matplotlib.pyplot as plt"
   ],
   "metadata": {
    "collapsed": false,
    "pycharm": {
     "name": "#%% code\n"
    }
   }
  },
  {
   "cell_type": "markdown",
   "source": [
    "Firstly, we load our model. To do this, we access the appropriate pretrained network from the \"PretrainedModels\" folder\n",
    "and initialise it as a new network. Here we decide on a network that is to perform a segmentation and uses a classic\n",
    "autoencoding-transformed network without artificial distortions for this."
   ],
   "metadata": {
    "collapsed": false
   }
  },
  {
   "cell_type": "code",
   "execution_count": null,
   "outputs": [],
   "source": [
    "model = ExperimentModule(learning_mode='segmentation', pretrained='pre', distortions='nodist')"
   ],
   "metadata": {
    "collapsed": false,
    "pycharm": {
     "name": "#%% code\n"
    }
   }
  },
  {
   "cell_type": "markdown",
   "source": [
    "Now we assign a data set to the network. Here, 28 dMRI recordings from the University Hospital Aachen are used.\n",
    "Unfortunately, this data cannot be shared, alternative possibilities are listed in readme.md. The images are automatically divided into a test-, training- and validation-set."
   ],
   "metadata": {
    "collapsed": false
   }
  },
  {
   "cell_type": "code",
   "execution_count": null,
   "outputs": [],
   "source": [
    "dataloader = ExperimentDataloader.DataModule(learning_mode='segmentation')"
   ],
   "metadata": {
    "collapsed": false,
    "pycharm": {
     "name": "#%% code\n"
    }
   }
  },
  {
   "cell_type": "markdown",
   "source": [
    "The network is to be trained with the help of PyTorch Lightning. Here, a low number of epochs is set, exact results and\n",
    "an appropriate epoch number can be read in our paper."
   ],
   "metadata": {
    "collapsed": false,
    "pycharm": {
     "name": "#%% md\n"
    }
   }
  },
  {
   "cell_type": "code",
   "execution_count": null,
   "outputs": [],
   "source": [
    "trainer = pl.Trainer(gpus=1,\n",
    "                     max_epochs=300,\n",
    "                     deterministic=True,\n",
    "                     log_every_n_steps=10,\n",
    "                     resume_from_checkpoint=0)"
   ],
   "metadata": {
    "collapsed": false,
    "pycharm": {
     "name": "#%% code\n"
    }
   }
  },
  {
   "cell_type": "markdown",
   "source": [
    "The aim of the network is to create a three-dimensional segmentation of the brain (here a slice in 2D). It is divided\n",
    "into the categories: gray matter, white matter, CSF and background. Because of time constraints, clinical images can be\n",
    "significantly more distorted compared to a research setting (e.g. HCP Data). We have evaluated the effects of pretraining\n",
    "with high quality images on clinical data. Here, these pretraining-data were not modified, but further approaches\n",
    "(with artificial distortions) and other diffusion MRI related concepts can be read about in our paper.\n",
    "\n",
    "Now we carry out the training, where we use a 3D-U-Net and an L1-loss for the evaluation. 300 epochs took about 150\n",
    "minutes with a GTX 1080i."
   ],
   "metadata": {
    "collapsed": false,
    "pycharm": {
     "name": "#%% md\n"
    }
   }
  },
  {
   "cell_type": "code",
   "execution_count": null,
   "outputs": [],
   "source": [
    "trainer.fit(model, datamodule=dataloader)"
   ],
   "metadata": {
    "collapsed": false,
    "pycharm": {
     "name": "#%% code\n"
    }
   }
  },
  {
   "cell_type": "markdown",
   "source": [
    "Finally, the network can be tested. The results are written here in an Excel file, which is created in the same folder."
   ],
   "metadata": {
    "collapsed": false,
    "pycharm": {
     "name": "#%% md\n"
    }
   }
  },
  {
   "cell_type": "code",
   "execution_count": null,
   "outputs": [],
   "source": [
    "trainer.test(ckpt_path='best', test_dataloaders=dataloader)"
   ],
   "metadata": {
    "collapsed": false,
    "pycharm": {
     "name": "#%% code\n"
    }
   }
  },
  {
   "cell_type": "markdown",
   "source": [
    "The network is able to segment the brain. Detailed results and comparisons among the different approaches can be found\n",
    "in our paper.\n",
    "\n",
    "(Pictures still to come)"
   ],
   "metadata": {
    "collapsed": false,
    "pycharm": {
     "name": "#%% md\n"
    }
   }
  },
  {
   "cell_type": "code",
   "execution_count": null,
   "outputs": [],
   "source": [],
   "metadata": {
    "collapsed": false,
    "pycharm": {
     "name": "#%% code\n"
    }
   }
  }
 ],
 "metadata": {
  "kernelspec": {
   "display_name": "Python 3",
   "language": "python",
   "name": "python3"
  },
  "language_info": {
   "codemirror_mode": {
    "name": "ipython",
    "version": 2
   },
   "file_extension": ".py",
   "mimetype": "text/x-python",
   "name": "python",
   "nbconvert_exporter": "python",
   "pygments_lexer": "ipython2",
   "version": "2.7.6"
  }
 },
 "nbformat": 4,
 "nbformat_minor": 0
}