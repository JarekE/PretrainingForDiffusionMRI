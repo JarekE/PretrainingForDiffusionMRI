{
 "cells": [
  {
   "cell_type": "markdown",
   "source": [
    "# Example\n",
    "## Pretraining for Diffusion MRI\n",
    "\n",
    "In this example, the functionality of the code is demonstrated by fine-tuning a pretrained network for segmentation\n",
    "of the dMRI data."
   ],
   "metadata": {
    "collapsed": false,
    "pycharm": {
     "name": "#%% md\n"
    }
   }
  },
  {
   "cell_type": "code",
   "execution_count": null,
   "outputs": [],
   "source": [
    "from ExperimentModule import ExperimentModule\n",
    "import ExperimentDataloader\n",
    "import pytorch_lightning as pl"
   ],
   "metadata": {
    "collapsed": false,
    "pycharm": {
     "name": "#%% code\n"
    }
   }
  },
  {
   "cell_type": "markdown",
   "source": [
    "Firstly, we load our model. To do this, we access the appropriate pretrained network from the \"PretrainedModels\" folder\n",
    "and initialise it as a new network. Here we decide on a network that is to perform a segmentation and uses a classic\n",
    "autoencoding-transformed network without artificial distortions for this."
   ],
   "metadata": {
    "collapsed": false
   }
  },
  {
   "cell_type": "code",
   "execution_count": 12,
   "outputs": [],
   "source": [
    "model = ExperimentModule(learning_mode='segmentation', pretrained='pre', distortions='nodist')"
   ],
   "metadata": {
    "collapsed": false,
    "pycharm": {
     "name": "#%% code\n"
    }
   }
  },
  {
   "cell_type": "markdown",
   "source": [
    "Now we load the data. These are automatically divided into a test-, training- and validation-set."
   ],
   "metadata": {
    "collapsed": false
   }
  },
  {
   "cell_type": "code",
   "execution_count": 13,
   "outputs": [
    {
     "name": "stdout",
     "output_type": "stream",
     "text": [
      "9801\n",
      "100\n"
     ]
    }
   ],
   "source": [
    "dataloader = ExperimentDataloader.DataModule(learning_mode='segmentation')"
   ],
   "metadata": {
    "collapsed": false,
    "pycharm": {
     "name": "#%% code\n"
    }
   }
  },
  {
   "cell_type": "markdown",
   "source": [
    "To carry out the training we use PyTorch-Lightning."
   ],
   "metadata": {
    "collapsed": false,
    "pycharm": {
     "name": "#%% md\n"
    }
   }
  },
  {
   "cell_type": "code",
   "execution_count": null,
   "outputs": [],
   "source": [
    "trainer = pl.Trainer(gpus=1,\n",
    "                     max_epochs=1500,\n",
    "                     deterministic=True,\n",
    "                     log_every_n_steps=10,\n",
    "                     resume_from_checkpoint=0)\n",
    "\n",
    "trainer.fit(model, datamodule=dataloader)"
   ],
   "metadata": {
    "collapsed": false,
    "pycharm": {
     "name": "#%% code\n"
    }
   }
  },
  {
   "cell_type": "markdown",
   "source": [
    "Finally, the network can be tested. The results are written here in an Excel file, which is created in the same folder."
   ],
   "metadata": {
    "collapsed": false,
    "pycharm": {
     "name": "#%% md\n"
    }
   }
  },
  {
   "cell_type": "code",
   "execution_count": null,
   "outputs": [],
   "source": [
    "trainer.test(ckpt_path='best', test_dataloaders=dataloader)"
   ],
   "metadata": {
    "collapsed": false,
    "pycharm": {
     "name": "#%% code\n"
    }
   }
  }
 ],
 "metadata": {
  "kernelspec": {
   "display_name": "Python 3",
   "language": "python",
   "name": "python3"
  },
  "language_info": {
   "codemirror_mode": {
    "name": "ipython",
    "version": 2
   },
   "file_extension": ".py",
   "mimetype": "text/x-python",
   "name": "python",
   "nbconvert_exporter": "python",
   "pygments_lexer": "ipython2",
   "version": "2.7.6"
  }
 },
 "nbformat": 4,
 "nbformat_minor": 0
}